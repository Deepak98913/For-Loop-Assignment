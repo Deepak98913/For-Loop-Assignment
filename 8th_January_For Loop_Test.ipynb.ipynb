{
 "cells": [
  {
   "cell_type": "code",
   "execution_count": 1,
   "id": "aaca9fc7-19d7-4010-bd40-d689a850dec4",
   "metadata": {},
   "outputs": [],
   "source": [
    "# Basic Level:\n",
    "# 1. Write a Python program to print the numbers from 1 to 10 using a `for` loop."
   ]
  },
  {
   "cell_type": "code",
   "execution_count": 2,
   "id": "48928c05-2672-4613-8f01-2d1014ec32de",
   "metadata": {},
   "outputs": [
    {
     "name": "stdout",
     "output_type": "stream",
     "text": [
      "1\n",
      "2\n",
      "3\n",
      "4\n",
      "5\n",
      "6\n",
      "7\n",
      "8\n",
      "9\n",
      "10\n"
     ]
    }
   ],
   "source": [
    "for i in range(1,11):\n",
    "    print(i)\n"
   ]
  },
  {
   "cell_type": "code",
   "execution_count": 4,
   "id": "bbf62478-dc6d-4f7f-8bfa-27f242607cfc",
   "metadata": {},
   "outputs": [
    {
     "name": "stdout",
     "output_type": "stream",
     "text": [
      "The sum of the numbers in the list is: 26\n"
     ]
    }
   ],
   "source": [
    "# 2. Create a program that calculates the sum of all numbers in a list using a `for` loop.\n",
    "numbers = [3,7,9,2,5]\n",
    "total_sum = 0\n",
    "for num in numbers:\n",
    "    total_sum += num\n",
    "# Print\n",
    "print(\"The sum of the numbers in the list is:\", total_sum)"
   ]
  },
  {
   "cell_type": "code",
   "execution_count": 11,
   "id": "e40e5835-b7cf-4d9f-b15c-b5ad108b25a4",
   "metadata": {},
   "outputs": [
    {
     "name": "stdout",
     "output_type": "stream",
     "text": [
      "!ramuK ,kapeed"
     ]
    }
   ],
   "source": [
    "# 3. Write a program to print the characters of a string in reverse order using a `for` loop.\n",
    "my_string = \"deepak, Kumar!\"\n",
    "for i in range(len(my_string)-1,-1,-1):\n",
    "    print(my_string[i], end = \"\")"
   ]
  },
  {
   "cell_type": "code",
   "execution_count": 14,
   "id": "e126349b-a2e6-496f-9459-e15da96c6e50",
   "metadata": {},
   "outputs": [
    {
     "name": "stdin",
     "output_type": "stream",
     "text": [
      "Enter a number to find its factorial:  4\n"
     ]
    },
    {
     "name": "stdout",
     "output_type": "stream",
     "text": [
      "The factorial of 4 is: 24\n"
     ]
    }
   ],
   "source": [
    "# 4. Develop a program that finds the factorial of a given number using a `for` loop.\n",
    "def calculate_factorial(n):\n",
    "    factorial = 1\n",
    "    #check if the number is less than zero:\n",
    "    if n < 0:\n",
    "        return \"factorial is not defined for negative numbers\"\n",
    "    elif n == 0:\n",
    "        return 1\n",
    "    else: \n",
    "        for i in range(1 , n + 1):\n",
    "            factorial *= i\n",
    "        return factorial\n",
    "number = int(input(\"Enter a number to find its factorial: \"))\n",
    "# Calculate factorial\n",
    "result = calculate_factorial(number)\n",
    "# Display the resule\n",
    "print(f\"The factorial of {number} is: {result}\")"
   ]
  },
  {
   "cell_type": "code",
   "execution_count": 17,
   "id": "861fb4d6-8205-4442-aedf-0480cb22268e",
   "metadata": {},
   "outputs": [
    {
     "name": "stdin",
     "output_type": "stream",
     "text": [
      "Enter a number to generate its multiplication tablet:  5\n"
     ]
    },
    {
     "name": "stdout",
     "output_type": "stream",
     "text": [
      "multiplication table for 5:\n",
      "5 x 1 = 5\n",
      "5 x 2 = 5\n",
      "5 x 3 = 5\n",
      "5 x 4 = 5\n",
      "5 x 5 = 5\n",
      "5 x 6 = 5\n",
      "5 x 7 = 5\n",
      "5 x 8 = 5\n",
      "5 x 9 = 5\n",
      "5 x 10 = 5\n"
     ]
    }
   ],
   "source": [
    "# 5. Create a program to print the multiplication table of a given number using a `for` loop.\n",
    "# input number\n",
    "number = int(input(\"Enter a number to generate its multiplication tablet: \"))\n",
    "#Display multiplication\n",
    "print(F\"multiplication table for {number}:\")\n",
    "for i in range (1,11):\n",
    "    print(f\"{number} x {i} = {number * 1}\")"
   ]
  },
  {
   "cell_type": "code",
   "execution_count": 18,
   "id": "d5fd55eb-5efd-4e3b-a5a2-906e116833d7",
   "metadata": {},
   "outputs": [
    {
     "name": "stdout",
     "output_type": "stream",
     "text": [
      "numbers of even numbers: 4\n",
      " numbers of odd numbers: 4\n"
     ]
    }
   ],
   "source": [
    "# 6. Write a program that counts the number of even and odd numbers in a list using a `for` loop.\n",
    "# Define a list of number\n",
    "numbers = [3,7,12,9,20,25,16,2]\n",
    "even_count = 0\n",
    "odd_count = 0\n",
    "for num in numbers:\n",
    "    if num % 2 == 0:\n",
    "        even_count +=1\n",
    "    else :\n",
    "        odd_count +=1\n",
    "# Print\n",
    "print(f\"numbers of even numbers:\", even_count)\n",
    "print(f\" numbers of odd numbers:\", odd_count)"
   ]
  },
  {
   "cell_type": "code",
   "execution_count": 19,
   "id": "2e5aa392-4e2e-4b70-b81d-06e87db88b62",
   "metadata": {},
   "outputs": [
    {
     "name": "stdout",
     "output_type": "stream",
     "text": [
      "The square of i is: 1\n",
      "The square of i is: 4\n",
      "The square of i is: 9\n",
      "The square of i is: 16\n",
      "The square of i is: 25\n"
     ]
    }
   ],
   "source": [
    "# 7. Develop a program that prints the squares of numbers from 1 to 5 using a `for` loop.\n",
    "for i in range(1,6):\n",
    "    square = i**2\n",
    "    print(f\"The square of i is:\", square)"
   ]
  },
  {
   "cell_type": "code",
   "execution_count": 22,
   "id": "ca3b5661-c57b-4ba6-99e6-b77120a8d019",
   "metadata": {},
   "outputs": [
    {
     "name": "stdout",
     "output_type": "stream",
     "text": [
      "The length of the string is: 13\n"
     ]
    }
   ],
   "source": [
    "# 8. Create a program to find the length of a string without using the `len()` function.\n",
    "def string_length(string):\n",
    "    count = 0\n",
    "    \n",
    "    for char in string:\n",
    "        count += 1\n",
    "    return count\n",
    "my_string = \"deepak, kumar\"\n",
    "#calculate the lenght of string using function\n",
    "length = string_length(my_string)\n",
    "#display the length of the string\n",
    "print(f\"The length of the string is:\", length)"
   ]
  },
  {
   "cell_type": "code",
   "execution_count": 27,
   "id": "15cf20a2-e799-4534-8998-652a7bdc7f58",
   "metadata": {},
   "outputs": [
    {
     "name": "stdout",
     "output_type": "stream",
     "text": [
      "The average of the my list is: 14.8\n"
     ]
    }
   ],
   "source": [
    "# 9. Write a program that calculates the average of a list of numbers using a `for` loop.\n",
    "my_list = [2,15,25,10,22]\n",
    "# Initialize variable for sum and count\n",
    "total = 0\n",
    "count = 0\n",
    "\n",
    "# calculate avrage\n",
    "for num in my_list:\n",
    "    total += num\n",
    "    count += 1\n",
    "# Calculate avrage\n",
    "if count !=0:\n",
    "    average = total/count\n",
    "    print(f\"The average of the my list is:\", average)\n",
    "else:\n",
    "    print(\"Cannot calulate average for an empty list\")"
   ]
  },
  {
   "cell_type": "code",
   "execution_count": 1,
   "id": "4fb3e51f-25fc-439b-af34-446e97a45d9c",
   "metadata": {},
   "outputs": [
    {
     "name": "stdout",
     "output_type": "stream",
     "text": [
      "0 1 1 2 3 5 8 13 21 "
     ]
    }
   ],
   "source": [
    "# 10. Develop a program that prints the first `n` Fibonacci numbers using a `for` loop.\n",
    "def fibonacci_numbers(num):\n",
    "    if num == 0:\n",
    "        return 0\n",
    "    elif num == 1:\n",
    "        return 1\n",
    "    else:\n",
    "        return fibonacci_numbers(num-2) + fibonacci_numbers(num-1)\n",
    "\n",
    "n = 9\n",
    "for i in range (0,n):\n",
    "    print(fibonacci_numbers(i), end = \" \")"
   ]
  },
  {
   "cell_type": "code",
   "execution_count": 13,
   "id": "dc2240e4-216c-4f1b-88a3-53dfce11ac0d",
   "metadata": {},
   "outputs": [
    {
     "name": "stdout",
     "output_type": "stream",
     "text": [
      "duplicatelist: [1, 2, 3, 5, 4, 3, 5, 4, 6, 4]\n"
     ]
    }
   ],
   "source": [
    "# Interemediate Level:\n",
    "\n",
    "#11. Write a program to check if a given list contains any duplicates using a `for` loop.\n",
    "my_list = [1,2,3,5,4,3,5,4,6,4]\n",
    "unique_list = []\n",
    "duplicate_list = []\n",
    "    \n",
    "for i in my_list :\n",
    "    if i not in unique_list:\n",
    "        unique_list.append(i)\n",
    "    elif i not in duplicate_list:\n",
    "        duplicate_list.append(i)\n",
    "print(\"duplicatelist:\", my_list)\n",
    "    "
   ]
  },
  {
   "cell_type": "code",
   "execution_count": 18,
   "id": "ab3cc295-bb8a-4d7f-a024-90ef65afa292",
   "metadata": {},
   "outputs": [
    {
     "name": "stdin",
     "output_type": "stream",
     "text": [
      "Enter the starting number of the range: 10\n",
      "Enter the ending number of the range: 50\n"
     ]
    },
    {
     "name": "stdout",
     "output_type": "stream",
     "text": [
      "Prime numbers between 10 and 50 :\n",
      "11\n",
      "13\n",
      "17\n",
      "19\n",
      "23\n",
      "29\n",
      "31\n",
      "37\n",
      "41\n",
      "43\n",
      "47\n"
     ]
    }
   ],
   "source": [
    "# 12. Create a program that prints the prime numbers in a given range using a `for` loop.\n",
    "def is_prime(num):\n",
    "    if num <= 1:\n",
    "        return False\n",
    "    for i in range(2, int(num**0.5) +1):\n",
    "        if num % i == 0:\n",
    "            return False\n",
    "    return True\n",
    "#input_range\n",
    "start = int(input(\"Enter the starting number of the range:\"))\n",
    "end = int(input(\"Enter the ending number of the range:\"))\n",
    "# prime number usinf for loop\n",
    "print(f\"Prime numbers between {start} and {end} :\")\n",
    "for number in range(start, end + 1):\n",
    "      if is_prime(number):\n",
    "            print(number)"
   ]
  },
  {
   "cell_type": "code",
   "execution_count": 19,
   "id": "46e0d478-e172-4d1f-bccc-de1a8d8f4ee3",
   "metadata": {},
   "outputs": [
    {
     "name": "stdin",
     "output_type": "stream",
     "text": [
      "Enter a string:  deepak kumar\n"
     ]
    },
    {
     "name": "stdout",
     "output_type": "stream",
     "text": [
      "The number of vowels in the string is:  5\n"
     ]
    }
   ],
   "source": [
    "# 13. Develop a program that counts the number of vowels in a string using a `for` loop.\n",
    "def count_vowels(input_string):\n",
    "    vowels = \"aeiouAEIOU\"\n",
    "    vowel_count = 0\n",
    "    for char in input_string:\n",
    "        if char in vowels:\n",
    "            vowel_count += 1\n",
    "    return vowel_count\n",
    "# string\n",
    "my_input = input(\"Enter a string: \")\n",
    "vowel_count = count_vowels(my_input)\n",
    "#print\n",
    "print(f\"The number of vowels in the string is: \",vowel_count)\n"
   ]
  },
  {
   "cell_type": "code",
   "execution_count": 21,
   "id": "bb74b748-1978-401c-93d1-6a3a67f0b6ea",
   "metadata": {},
   "outputs": [
    {
     "name": "stdout",
     "output_type": "stream",
     "text": [
      "The maximum element in the 2D list is: 19\n"
     ]
    }
   ],
   "source": [
    "#14. Write a program to find the maximum element in a 2D list using a nested `for` loop.\n",
    "my_list = [\n",
    "    [5,12,15],\n",
    "    [9,3,5],\n",
    "    [15,17,19]\n",
    "]\n",
    "max_element = float('-inf')\n",
    "for row in my_list:\n",
    "    for element in row:\n",
    "        if element > max_element:\n",
    "            max_element = element\n",
    "# print\n",
    "print(f\"The maximum element in the 2D list is:\" ,max_element)\n",
    "    "
   ]
  },
  {
   "cell_type": "code",
   "execution_count": 23,
   "id": "52ed3db1-73dd-4d1c-b57f-746445501b53",
   "metadata": {},
   "outputs": [
    {
     "name": "stdout",
     "output_type": "stream",
     "text": [
      "List after removing 5: [2, 3, 6, 4, 3, 6, 7]\n"
     ]
    }
   ],
   "source": [
    "# 15. Create a program that removes all occurrences of a specific element from a list using a `for` loop.\n",
    "def remove_element(input_list, element_to_remove):\n",
    "    # use list comprehension\n",
    "    new_list = [elem for elem in input_list if elem!= element_to_remove]\n",
    "    return new_list\n",
    "my_list = [2,3,5,6,4,3,5,6,7]\n",
    "# remove element\n",
    "element = 5\n",
    "result_list = remove_element(my_list, element)\n",
    "print(f\"List after removing {element}: {result_list}\")"
   ]
  },
  {
   "cell_type": "code",
   "execution_count": 25,
   "id": "1663492e-0302-435e-973e-a9be3b6b1c7e",
   "metadata": {},
   "outputs": [
    {
     "name": "stdout",
     "output_type": "stream",
     "text": [
      "multiplication table for 1:\n",
      "1 * 1 = 2\n",
      "1 * 2 = 3\n",
      "1 * 3 = 4\n",
      "1 * 4 = 5\n",
      "1 * 5 = 6\n",
      "1 * 6 = 7\n",
      "1 * 7 = 8\n",
      "1 * 8 = 9\n",
      "1 * 9 = 10\n",
      "1 * 10 = 11\n",
      "\n",
      "multiplication table for 2:\n",
      "2 * 1 = 3\n",
      "2 * 2 = 4\n",
      "2 * 3 = 5\n",
      "2 * 4 = 6\n",
      "2 * 5 = 7\n",
      "2 * 6 = 8\n",
      "2 * 7 = 9\n",
      "2 * 8 = 10\n",
      "2 * 9 = 11\n",
      "2 * 10 = 12\n",
      "\n",
      "multiplication table for 3:\n",
      "3 * 1 = 4\n",
      "3 * 2 = 5\n",
      "3 * 3 = 6\n",
      "3 * 4 = 7\n",
      "3 * 5 = 8\n",
      "3 * 6 = 9\n",
      "3 * 7 = 10\n",
      "3 * 8 = 11\n",
      "3 * 9 = 12\n",
      "3 * 10 = 13\n",
      "\n",
      "multiplication table for 4:\n",
      "4 * 1 = 5\n",
      "4 * 2 = 6\n",
      "4 * 3 = 7\n",
      "4 * 4 = 8\n",
      "4 * 5 = 9\n",
      "4 * 6 = 10\n",
      "4 * 7 = 11\n",
      "4 * 8 = 12\n",
      "4 * 9 = 13\n",
      "4 * 10 = 14\n",
      "\n",
      "multiplication table for 5:\n",
      "5 * 1 = 6\n",
      "5 * 2 = 7\n",
      "5 * 3 = 8\n",
      "5 * 4 = 9\n",
      "5 * 5 = 10\n",
      "5 * 6 = 11\n",
      "5 * 7 = 12\n",
      "5 * 8 = 13\n",
      "5 * 9 = 14\n",
      "5 * 10 = 15\n",
      "\n"
     ]
    }
   ],
   "source": [
    "# 16. Develop a program that generates a multiplication table for numbers from 1 to 5 using a nested `for` loop.\n",
    "for i in range(1,6):\n",
    "    print(f\"multiplication table for {i}:\")\n",
    "    for j in range(1, 11):\n",
    "        result = i+j\n",
    "        print(f\"{i} * {j} = {result}\")\n",
    "    print()"
   ]
  },
  {
   "cell_type": "code",
   "execution_count": 35,
   "id": "04636875-bb92-454b-9e3c-f89da510b230",
   "metadata": {},
   "outputs": [
    {
     "name": "stdout",
     "output_type": "stream",
     "text": [
      "Fahrenheit  celsius\n",
      "    32.00 0.00\n",
      "    34.00 1.11\n",
      "    57.00 13.89\n",
      "   135.00 57.22\n",
      "   345.00 173.89\n"
     ]
    }
   ],
   "source": [
    "# 17. Write a program that converts a list of Fahrenheit temperatures to Celsius using a `for` loop.\n",
    "def fahrenheit_to_celsius(fahrenheit):\n",
    "    return (5/9) * (fahrenheit - 32)\n",
    "# list of fahrenheit temperature\n",
    "fahrenheit_temperatures = [32,34,57,135,345]\n",
    "# convert\n",
    "celsius_temperatures = []\n",
    "for temp in fahrenheit_temperature:\n",
    "    celsius = fahrenheit_to_celsius(temp)\n",
    "    celsius_temperatures.append(celsius)\n",
    "print(\"Fahrenheit  celsius\")\n",
    "for i in range(len(fahrenheit_temperatures)):\n",
    "    print(f\"{fahrenheit_temperatures[i]:9.2f} {celsius_temperatures[i]:.2f}\")"
   ]
  },
  {
   "cell_type": "code",
   "execution_count": 43,
   "id": "371481c2-62e7-4fd2-8adf-dc5f0714b54e",
   "metadata": {},
   "outputs": [
    {
     "name": "stdout",
     "output_type": "stream",
     "text": [
      "common elements: [2, 6, 8]\n"
     ]
    }
   ],
   "source": [
    "# 18. Create a program to print the common elements from two lists using a `for` loop.\n",
    "def find_common_element(list1, list2):\n",
    "    common_elements = []\n",
    "    for element in list1:\n",
    "        if element in list2 and element not in common_elements:\n",
    "            common_elements.append(element)\n",
    "    return common_elements\n",
    "#list\n",
    "list1 = [2,3,5,6,7,8]\n",
    "list2 = [2,4,6,8,9,1]\n",
    "#common element\n",
    "common_elements = find_common_element(list1,list2)\n",
    "if common_elements:\n",
    "    print(\"common elements:\", common_elements)\n",
    "else:\n",
    "    print(\"no common elements found.\")"
   ]
  },
  {
   "cell_type": "code",
   "execution_count": 45,
   "id": "a4a57ecd-a43e-4d16-a47c-5ecbf64ca897",
   "metadata": {},
   "outputs": [
    {
     "name": "stdin",
     "output_type": "stream",
     "text": [
      "Enter the size of the right - angled triangle:  10\n"
     ]
    },
    {
     "name": "stdout",
     "output_type": "stream",
     "text": [
      "*\n",
      "**\n",
      "***\n",
      "****\n",
      "*****\n",
      "******\n",
      "*******\n",
      "********\n",
      "*********\n",
      "**********\n"
     ]
    }
   ],
   "source": [
    "# 19. Develop a program that prints the pattern of right-angled triangles using a `for` loop. Use ‘*’ to draw the pattern\n",
    "def print_right_angle_triangle(size):\n",
    "    for i in range(1, size + 1):\n",
    "        print('*' * i)\n",
    "# input the size of the triangle\n",
    "triangle_size = int(input(\"Enter the size of the right - angled triangle: \"))\n",
    "\n",
    "print_right_angle_triangle(triangle_size)"
   ]
  },
  {
   "cell_type": "code",
   "execution_count": 48,
   "id": "d0c6d5e7-eaf2-4fea-881f-279a3332f573",
   "metadata": {},
   "outputs": [
    {
     "name": "stdin",
     "output_type": "stream",
     "text": [
      "Enter the first number:  2\n",
      "Enter the second number:  4\n"
     ]
    },
    {
     "name": "stdout",
     "output_type": "stream",
     "text": [
      "The GCD of 2 and 4 is: 2\n"
     ]
    }
   ],
   "source": [
    "# 20. Write a program to find the greatest common divisor (GCD) of two numbers using a `for` loop.\n",
    "def find_gcd(a,b):\n",
    "    gcd = 1\n",
    "    for i in range(1, min(a, b) +1):\n",
    "        if a % i == 0 and b%i ==0:\n",
    "            gcd = i\n",
    "    return gcd\n",
    "num1 = int(input(\"Enter the first number: \"))\n",
    "num2 = int(input(\"Enter the second number: \"))\n",
    "\n",
    "gcd_result = find_gcd(num1, num2)\n",
    "print(f\"The GCD of {num1} and {num2} is: {gcd_result}\")"
   ]
  },
  {
   "cell_type": "code",
   "execution_count": 2,
   "id": "39297774-f09d-4726-964d-484701f46e6c",
   "metadata": {},
   "outputs": [
    {
     "name": "stdout",
     "output_type": "stream",
     "text": [
      "Sum of digits in 123: 6\n",
      "Sum of digits in 456: 15\n",
      "Sum of digits in 789: 24\n"
     ]
    }
   ],
   "source": [
    "# Advanced Level:\n",
    "\n",
    "#21. Create a program that calculates the sum of the digits of numbers in a list using a list comprehension.\n",
    "def digit_sum(num):\n",
    "    return sum(int(digit) for digit in str(num) if digit.isdigit())\n",
    "\n",
    "numbers = [123,456,789]\n",
    " # calculate sum of digits using comprehension\n",
    "sum_of_digits = [digit_sum(num) for num in numbers]\n",
    "\n",
    "for i,num in enumerate(numbers):\n",
    "    print(f\"Sum of digits in {num}: {sum_of_digits[i]}\")\n"
   ]
  },
  {
   "cell_type": "code",
   "execution_count": 6,
   "id": "cdc49a4e-da12-4342-9b58-db271bfefdbd",
   "metadata": {},
   "outputs": [
    {
     "name": "stdin",
     "output_type": "stream",
     "text": [
      "Enter a number to find its prime factors:  45\n"
     ]
    },
    {
     "name": "stdout",
     "output_type": "stream",
     "text": [
      "The prime factors of 45 are: [3, 3, 5]\n"
     ]
    }
   ],
   "source": [
    "# 22. Write a program to find the prime factors of a given number using a `for` loop and list comprehension.\n",
    "def prime_factors(number):\n",
    "    factors = []\n",
    "    # check for 2 as a factor\n",
    "    while number % 2 == 0:\n",
    "        factors.append(2)\n",
    "        number //= 2\n",
    "    # check for odd factors starting from 3\n",
    "    for i in range(3, int(number**0.5)+1,2):\n",
    "        while number % i == 0:\n",
    "            factors.append(i)\n",
    "            number //= i\n",
    "    # if the number itself\n",
    "    if number >2:\n",
    "        factors.append(number)\n",
    "    return factors\n",
    "# input number\n",
    "num = int(input(\"Enter a number to find its prime factors: \"))\n",
    "# Result\n",
    "result = prime_factors(num)\n",
    "print(f\"The prime factors of {num} are: {result}\")"
   ]
  },
  {
   "cell_type": "code",
   "execution_count": 8,
   "id": "7c3f7e30-de56-47df-8bf1-f076457ff78d",
   "metadata": {},
   "outputs": [
    {
     "name": "stdout",
     "output_type": "stream",
     "text": [
      "Original list: [1, 2, 2, 3, 4, 4, 5, 5, 5, 6, 6, 7, 7, 8, 8, 9]\n",
      "Unique elements: [1, 2, 3, 4, 5, 6, 7, 8, 9]\n"
     ]
    }
   ],
   "source": [
    "# 23. Develop a program that extracts unique elements from a list and stores them in a new list using a list \n",
    "#original list\n",
    "original_list = [1,2,2,3,4,4,5,5,5,6,6,7,7,8,8,9]\n",
    "#unique_elements\n",
    "unique_elements = list(set(original_list))\n",
    "# Display the unique element\n",
    "print(\"Original list:\", original_list)\n",
    "print(\"Unique elements:\", unique_elements)"
   ]
  },
  {
   "cell_type": "code",
   "execution_count": 10,
   "id": "6f993d38-3721-49d2-bae7-4419b164fc51",
   "metadata": {},
   "outputs": [
    {
     "name": "stdout",
     "output_type": "stream",
     "text": [
      "palindromic numbers up to 100 : [0, 1, 2, 3, 4, 5, 6, 7, 8, 9, 11, 22, 33, 44, 55, 66, 77, 88, 99]\n"
     ]
    }
   ],
   "source": [
    "# 24. Create a program that generates a list of all palindromic numbers up to a specified limit using a list comprehension\n",
    "\n",
    "def is_palindrome(num):\n",
    "    return str(num) == str(num) [::-1]\n",
    "#specified limit\n",
    "limit = 100\n",
    "\n",
    "#generating a list of palindromic numbers using alist comprehensio\n",
    "palindromic_numbers = [num for num in range(limit + 1) if is_palindrome(num)]\n",
    "\n",
    "# print\n",
    "print(\"palindromic numbers up to\", limit, \":\", palindromic_numbers)\n"
   ]
  },
  {
   "cell_type": "code",
   "execution_count": 11,
   "id": "90ac934c-dd25-4a2d-893a-bc07949981d4",
   "metadata": {},
   "outputs": [
    {
     "name": "stdout",
     "output_type": "stream",
     "text": [
      "Nested list: [[1, 2, 3], [4, 5], [6, 7, 8]]\n",
      "Flattened list: [1, 2, 3, 4, 5, 6, 7, 8]\n"
     ]
    }
   ],
   "source": [
    "# 25. Write a program to flatten a nested list using list comprehension.\n",
    "nested_list = [[1,2,3],[4,5],[6,7,8]]\n",
    "# Flatten the nested list using list comprehension\n",
    "flattened_list = [element for sublist in nested_list for element in sublist]\n",
    "# print\n",
    "print(\"Nested list:\", nested_list)\n",
    "print(\"Flattened list:\", flattened_list)"
   ]
  },
  {
   "cell_type": "code",
   "execution_count": 12,
   "id": "84fddef7-1719-4579-b19d-6554752b085f",
   "metadata": {},
   "outputs": [
    {
     "name": "stdout",
     "output_type": "stream",
     "text": [
      "original list: [123, 456, 789]\n",
      "Sum of even numbers: 456\n",
      "Sum of odd numbers: 912\n"
     ]
    }
   ],
   "source": [
    "# 26. Develop a program that computes the sum of even and odd numbers in a list separately using list comprehension\n",
    "\n",
    "my_list = [1,2,3,4,5,6,7,8,9,10]\n",
    "# calculate \n",
    "even_sum = sum([num for num in numbers if num % 2 == 0])\n",
    "odd_sum = sum([num for num in numbers if num % 2 != 0])\n",
    "# print\n",
    "print(\"original list:\", numbers)\n",
    "print(\"Sum of even numbers:\", even_sum)\n",
    "print(\"Sum of odd numbers:\", odd_sum)\n",
    "\n",
    "\n"
   ]
  },
  {
   "cell_type": "code",
   "execution_count": 13,
   "id": "0804570a-176a-4b9e-8bc9-2e10f26cf970",
   "metadata": {},
   "outputs": [
    {
     "name": "stdout",
     "output_type": "stream",
     "text": [
      "Squares of odd numbers between 1 and 10: [1, 9, 25, 49, 81]\n"
     ]
    }
   ],
   "source": [
    "#27. Create a program that generates a list of squares of odd numbers between 1 and 10 using list comprehension\n",
    "\n",
    "squares_of_odd_numbers = [x ** 2 for x in range(1,11) if x % 2 !=0]\n",
    "#print\n",
    "print(\"Squares of odd numbers between 1 and 10:\", squares_of_odd_numbers)\n"
   ]
  },
  {
   "cell_type": "code",
   "execution_count": 15,
   "id": "746794b7-99f8-4d24-ad5f-b6a953189577",
   "metadata": {},
   "outputs": [
    {
     "name": "stdout",
     "output_type": "stream",
     "text": [
      "Combined Dictionary: {'a': 1, 'b': 2, 'c': 3}\n"
     ]
    }
   ],
   "source": [
    "# 28. Write a program that combines two lists into a dictionary using list comprehension.\n",
    "keys = ['a' ,'b', 'c']\n",
    "values = [1,2,3]\n",
    "# combine the list into a dictionary using list comprehension\n",
    "combined_dict = {keys[i]: values[i] for i in range(min(len(keys), len(values)))}\n",
    "# print\n",
    "print(\"Combined Dictionary:\", combined_dict)"
   ]
  },
  {
   "cell_type": "code",
   "execution_count": 16,
   "id": "71a8ad36-0cf0-473c-a97f-0450b7ae0542",
   "metadata": {},
   "outputs": [
    {
     "name": "stdout",
     "output_type": "stream",
     "text": [
      "Vowels extracted: ['e', 'o', 'e', 'e', 'o', 'e']\n"
     ]
    }
   ],
   "source": [
    "#29. Develop a program that extracts the vowels from a string and stores them in a list using list comprehension.\n",
    "\n",
    "def is_vowel(char):\n",
    "    return char.lower() in 'aeiou'\n",
    "#input string\n",
    "input_string = \"Hello, everyone\"\n",
    "#extraction\n",
    "vowels_list = [char for char in input_string if is_vowel(char)]\n",
    "#print\n",
    "print(\"Vowels extracted:\", vowels_list)\n",
    "             "
   ]
  },
  {
   "cell_type": "code",
   "execution_count": 18,
   "id": "f4659931-f2f9-42a9-af4f-82d58e3ca654",
   "metadata": {},
   "outputs": [
    {
     "name": "stdout",
     "output_type": "stream",
     "text": [
      "list with only numeric characters: ['213', '324', '324']\n"
     ]
    }
   ],
   "source": [
    "#30. Create a program that removes all non-numeric characters from a list of strings using list comprehension.\n",
    "my_string = ['dsf213', 'fssdf324', 'rtyt324']\n",
    "# remove\n",
    "numeric_only = [''.join(filter(str.isdigit, string)) for string in my_string]\n",
    "# Non numeric character removing\n",
    "print(\"list with only numeric characters:\", numeric_only)"
   ]
  },
  {
   "cell_type": "code",
   "execution_count": null,
   "id": "10485ca9-5167-4c4e-b5e0-2490fdb65389",
   "metadata": {},
   "outputs": [],
   "source": [
    "# CHALLENGE LEVEL:\n"
   ]
  },
  {
   "cell_type": "code",
   "execution_count": 7,
   "id": "25435f6e-5dae-487d-bce1-3c9abbe5d219",
   "metadata": {},
   "outputs": [
    {
     "name": "stdin",
     "output_type": "stream",
     "text": [
      "Enter the limit to generate prime numbers:  20\n"
     ]
    },
    {
     "name": "stdout",
     "output_type": "stream",
     "text": [
      "Prime numbers up to 20 : [2, 3, 5, 7, 11, 13, 17, 19]\n"
     ]
    }
   ],
   "source": [
    "#31. Write a program to generate a list of prime numbers using the Sieve of Eratosthenes algorithm and list\n",
    "#comprehension.\n",
    "def sieve_of_eratosthenes(limit):\n",
    "    sieve = [True] * (limit + 1)\n",
    "    sieve[0], sieve[1] = False, False\n",
    "\n",
    "    for i in range(2, int(limit ** 0.5) + 1):\n",
    "        if sieve[i]:\n",
    "            sieve[i*i: limit+1: i] = [False] * len(range(i*i, limit+1, i))\n",
    "\n",
    "    primes = [num for num in range(2, limit + 1) if sieve[num]]\n",
    "    return primes\n",
    "\n",
    "# Specify the limit to generate prime numbers\n",
    "limit = int(input(\"Enter the limit to generate prime numbers: \"))\n",
    "\n",
    "# Generate and display the list of prime numbers using Sieve of Eratosthenes\n",
    "prime_numbers = sieve_of_eratosthenes(limit)\n",
    "print(\"Prime numbers up to\", limit, \":\", prime_numbers)\n"
   ]
  },
  {
   "cell_type": "code",
   "execution_count": 8,
   "id": "0bcae883-84a5-4372-a810-2660771c3c28",
   "metadata": {},
   "outputs": [
    {
     "name": "stdin",
     "output_type": "stream",
     "text": [
      "Enter the limit to generate Pythagorean triplets:  20\n"
     ]
    },
    {
     "name": "stdout",
     "output_type": "stream",
     "text": [
      "Pythagorean Triplets up to  20 : [(3, 4, 5), (6, 8, 10), (5, 12, 13), (9, 12, 15), (8, 15, 17), (12, 16, 20)]\n"
     ]
    }
   ],
   "source": [
    "#32. Create a program that generates a list of all Pythagorean triplets up to a specified limit using list comprehension\n",
    "\n",
    "def pythagorean_triplets(limit):\n",
    "    triplets = [(a,b,c) for c in range(1, limit+1) for b in range(1,c) for a in range(1,b) if a**2 + b**2 == c**2]\n",
    "    return triplets\n",
    "\n",
    "# specific the limit to generate pythagorean triplets\n",
    "limit = int(input(\"Enter the limit to generate Pythagorean triplets: \"))\n",
    " # Generate and display\n",
    "triplet_list = pythagorean_triplets(limit)\n",
    "print(\"Pythagorean Triplets up to \", limit, \":\", triplet_list)"
   ]
  },
  {
   "cell_type": "code",
   "execution_count": 11,
   "id": "815fbde9-a382-4fea-bbbc-ceafba09a6fd",
   "metadata": {},
   "outputs": [
    {
     "name": "stdout",
     "output_type": "stream",
     "text": [
      "List 1: ['a', 'b', 'c']\n",
      "List 2: [3, 6, 7]\n",
      "All possible combinations: [('a', 3), ('a', 6), ('a', 7), ('b', 3), ('b', 6), ('b', 7), ('c', 3), ('c', 6), ('c', 7)]\n"
     ]
    }
   ],
   "source": [
    "# 33. Develop a program that generates a list of all possible combinations of two lists using list comprehension.\n",
    "combinations =[(x,y) for x in list1 for y in list2]\n",
    "# Two example list\n",
    "list1 = ['a','b','c']\n",
    "list2 = [3,6,7]\n",
    "# Generate all possible combination of two lists using list \n",
    "print(\"List 1:\", list1)\n",
    "print(\"List 2:\", list2)\n",
    "print(\"All possible combinations:\", combinations)\n"
   ]
  },
  {
   "cell_type": "code",
   "execution_count": 5,
   "id": "985756a6-019a-4939-bb82-5bc3c084a55c",
   "metadata": {},
   "outputs": [
    {
     "name": "stdout",
     "output_type": "stream",
     "text": [
      "List of Numbers: [1, 2, 3, 4, 5, 5, 5, 6, 7, 8]\n",
      "Mean: 4.6\n",
      "Median: 5.0\n",
      "Mode: [5]\n"
     ]
    }
   ],
   "source": [
    "#34. Write a program that calculates the mean, median, and mode of a list of numbers using list\n",
    "comprehension.\n",
    "from statistics import mean, median\n",
    "from collections import Counter\n",
    "\n",
    "# Function to calculate mode\n",
    "def calculate_mode(numbers):\n",
    "    frequency = Counter(numbers)\n",
    "    max_count = max(frequency.values())\n",
    "    return [num for num, freq in frequency.items() if freq == max_count]\n",
    "\n",
    "# Example list of numbers\n",
    "numbers = [1, 2, 3, 4, 5, 5, 5, 6, 7, 8]\n",
    "\n",
    "# Calculating mean, median, and mode\n",
    "mean_value = mean(numbers)\n",
    "median_value = median(numbers)\n",
    "mode_value = calculate_mode(numbers)\n",
    "\n",
    "# Display the calculated mean, median, and mode\n",
    "print(\"List of Numbers:\", numbers)\n",
    "print(\"Mean:\", mean_value)\n",
    "print(\"Median:\", median_value)\n",
    "print(\"Mode:\", mode_value)\n"
   ]
  },
  {
   "cell_type": "code",
   "execution_count": 6,
   "id": "e4df93e2-974e-4066-8ad4-83f453fe109e",
   "metadata": {},
   "outputs": [
    {
     "name": "stdin",
     "output_type": "stream",
     "text": [
      "Enter the number of rows for Pascal's triangle:  5\n"
     ]
    },
    {
     "name": "stdout",
     "output_type": "stream",
     "text": [
      "Pascal's Triangle up to 5 rows:\n",
      "[1]\n",
      "[1, 1]\n",
      "[1, 2, 1]\n",
      "[1, 3, 3, 1]\n",
      "[1, 4, 6, 4, 1]\n"
     ]
    }
   ],
   "source": [
    "#35. Create a program that generates Pascal's triangle up to a specified number of rows using list comprehension.\n",
    "def generate_pascals_triangle(rows):\n",
    "    triangle = [[1]]\n",
    "    for i in range(1, rows):\n",
    "        row = [1] + [triangle[i -1][j] + triangle[i - 1][j +1] for j in range(len(triangle[i - 1]) -1)] + [1]\n",
    "        triangle.append(row)\n",
    "    return triangle\n",
    "\n",
    "num_rows = int(input(\"Enter the number of rows for Pascal's triangle: \"))\n",
    "\n",
    "pascals_triangle = generate_pascals_triangle(num_rows)\n",
    "print(f\"Pascal's Triangle up to {num_rows} rows:\")\n",
    "for row in pascals_triangle:\n",
    "    print(row)\n"
   ]
  },
  {
   "cell_type": "code",
   "execution_count": 7,
   "id": "53ad7bb6-20a3-4c76-87b5-cd8b32f18587",
   "metadata": {},
   "outputs": [
    {
     "name": "stdout",
     "output_type": "stream",
     "text": [
      "Factorial sums of digits from 1 to 5: [1, 2, 6, 6, 3]\n"
     ]
    }
   ],
   "source": [
    "#36. Develop a program that calculates the sum of the digits of a factorial of numbers from 1 to 5 using list comprehension.\n",
    "def factorial(n):\n",
    "    if n == 0 or n == 1:\n",
    "        return 1\n",
    "    else:\n",
    "        return n * factorial(n-1)\n",
    "# calculate\n",
    "factorial_sums = [sum(int(digit) for digit in str(factorial(num))) for num in range(1, 6)]\n",
    "#print\n",
    "print(\"Factorial sums of digits from 1 to 5:\", factorial_sums)\n"
   ]
  },
  {
   "cell_type": "code",
   "execution_count": 11,
   "id": "fac0eabc-e443-45e4-88bb-dce1c1de10b2",
   "metadata": {},
   "outputs": [
    {
     "name": "stdin",
     "output_type": "stream",
     "text": [
      "Enter a sentence:  my name is deepak kumar\n"
     ]
    },
    {
     "name": "stdout",
     "output_type": "stream",
     "text": [
      "The longest word in the sentence is: 'deepak'\n"
     ]
    }
   ],
   "source": [
    "#37. Write a program that finds the longest word in a sentence using list comprehension.\n",
    "# Input sentence\n",
    "sentence = input(\"Enter a sentence: \")\n",
    "\n",
    "# Finding the longest word using list comprehension\n",
    "longest_word = max((word.strip(\",.!?\"\"\") for word in sentence.split()), key=len)\n",
    "\n",
    "# Display the longest word\n",
    "print(f\"The longest word in the sentence is: '{longest_word}'\")\n"
   ]
  },
  {
   "cell_type": "code",
   "execution_count": 13,
   "id": "962d89d9-08c3-4de0-ac0e-6f89b4079dd0",
   "metadata": {},
   "outputs": [
    {
     "name": "stdout",
     "output_type": "stream",
     "text": [
      "Original List: ['hello', 'how', 'are', 'you', 'doing', 'today']\n",
      "Filtered List (more than three vowels): []\n"
     ]
    }
   ],
   "source": [
    "# 38. Create a program that filters a list of strings to include only those with more than three vowels using list comprehension\n",
    "# Function to count vowels in a string\n",
    "def count_vowels(string):\n",
    "    return sum(1 for char in string if char.lower() in 'aeiou')\n",
    "\n",
    "# List of strings\n",
    "strings_list = [\"hello\", \"how\", \"are\", \"you\", \"doing\", \"today\"]\n",
    "\n",
    "# Filter strings with more than three vowels using list comprehension\n",
    "filtered_list = [string for string in strings_list if count_vowels(string) > 3]\n",
    "\n",
    "# Display the filtered list\n",
    "print(\"Original List:\", strings_list)\n",
    "print(\"Filtered List (more than three vowels):\", filtered_list)\n"
   ]
  },
  {
   "cell_type": "code",
   "execution_count": 14,
   "id": "79e64fec-0df3-4669-991a-09adef391910",
   "metadata": {},
   "outputs": [
    {
     "name": "stdout",
     "output_type": "stream",
     "text": [
      "Total sum of digits from 1 to 1000: 13501\n"
     ]
    }
   ],
   "source": [
    "# 39. Develop a program that calculates the sum of the digits of numbers from 1 to 1000 using list comprehension\n",
    "digit_sums = [sum(int(digit) for digit in str(num)) for num in range(1, 1001)]\n",
    "# calculate total sum\n",
    "total_digit_sum = sum(digit_sums)\n",
    "#print\n",
    "print(\"Total sum of digits from 1 to 1000:\", total_digit_sum)\n"
   ]
  },
  {
   "cell_type": "code",
   "execution_count": 16,
   "id": "71e21185-5c98-4fa3-9660-e4ab7b629146",
   "metadata": {},
   "outputs": [
    {
     "name": "stdout",
     "output_type": "stream",
     "text": [
      "Prime palindromic numbers: [2, 3]\n"
     ]
    }
   ],
   "source": [
    "# 40. Write a program that generates a list of prime palindromic numbers using list comprehension.\n",
    "def is_prime(num):\n",
    "    if num <2:\n",
    "        return False\n",
    "    for i in range(2, int(num ** 0.5) +1):\n",
    "        if num % 1 == 0:\n",
    "            return False\n",
    "    return True\n",
    "\n",
    "def is_palindrome(num):\n",
    "    return str(num) == str(num)[::-1]\n",
    "# generate prime palindromic numbers\n",
    "prime_palindromes = [num for num in range (2, 1000) if is_prime(num) and is_palindrome(num)]\n",
    "\n",
    "#display result\n",
    "print(\"Prime palindromic numbers:\", prime_palindromes)\n",
    "    \n"
   ]
  },
  {
   "cell_type": "code",
   "execution_count": null,
   "id": "f7324c33-bd7a-4cab-9e5a-c207eb043cd7",
   "metadata": {},
   "outputs": [],
   "source": []
  }
 ],
 "metadata": {
  "kernelspec": {
   "display_name": "Python 3 (ipykernel)",
   "language": "python",
   "name": "python3"
  },
  "language_info": {
   "codemirror_mode": {
    "name": "ipython",
    "version": 3
   },
   "file_extension": ".py",
   "mimetype": "text/x-python",
   "name": "python",
   "nbconvert_exporter": "python",
   "pygments_lexer": "ipython3",
   "version": "3.10.8"
  }
 },
 "nbformat": 4,
 "nbformat_minor": 5
}
